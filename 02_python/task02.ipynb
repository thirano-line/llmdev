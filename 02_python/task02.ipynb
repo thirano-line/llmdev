{
 "cells": [
  {
   "cell_type": "code",
   "execution_count": null,
   "id": "763db8d6",
   "metadata": {},
   "outputs": [],
   "source": [
    "price = int(input(\"税抜価格は？\"))\n",
    "\n",
    "postage = 0\n",
    "postage_str = \"無料\"\n",
    "\n",
    "if price < 2000:\n",
    "    postage = 350\n",
    "    postage_str = \"{}円\".format(postage)\n",
    "\n",
    "print(\"送料は{}です\".format(postage_str))\n",
    "print(\"送料込税込価格は{}円です\".format(int(price * 1.1 + postage)))"
   ]
  }
 ],
 "metadata": {
  "kernelspec": {
   "display_name": ".venv",
   "language": "python",
   "name": "python3"
  },
  "language_info": {
   "name": "python",
   "version": "3.12.10"
  }
 },
 "nbformat": 4,
 "nbformat_minor": 5
}
