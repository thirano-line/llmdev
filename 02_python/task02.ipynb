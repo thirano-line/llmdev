{
 "cells": [
  {
   "cell_type": "code",
   "execution_count": null,
   "id": "763db8d6",
   "metadata": {},
   "outputs": [],
   "source": [
    "price = int(input(\"税抜価格は？\"))\n",
    "\n",
    "postage = 0\n",
    "postage_str = \"無料\"\n",
    "\n",
    "price_include_tax = price * 1.1\n",
    "\n",
    "if price_include_tax < 2000:\n",
    "    postage = 350\n",
    "    postage_str = f\"{postage}円\"\n",
    "\n",
    "print(f\"送料は{postage_str}です\")\n",
    "print(f\"送料込税込価格は{int(price_include_tax + postage)}円です\")"
   ]
  }
 ],
 "metadata": {
  "kernelspec": {
   "display_name": ".venv",
   "language": "python",
   "name": "python3"
  },
  "language_info": {
   "name": "python",
   "version": "3.12.10"
  }
 },
 "nbformat": 4,
 "nbformat_minor": 5
}
