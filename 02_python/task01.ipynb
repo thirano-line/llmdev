{
 "cells": [
  {
   "cell_type": "code",
   "execution_count": null,
   "id": "3ba13ecc",
   "metadata": {},
   "outputs": [
    {
     "name": "stdout",
     "output_type": "stream",
     "text": [
      "はじめまして、 平野友也 と申します。\n",
      "年齢は 41 歳です。来年は 42  歳になります。\n",
      "よろしくお願いします。\n",
      "\n"
     ]
    }
   ],
   "source": [
    "name = \"平野友也\"\n",
    "age = 41\n",
    "\n",
    "print('''\\\n",
    "はじめまして、 {} と申します。\n",
    "年齢は {} 歳です。来年は {} 歳になります。\n",
    "よろしくお願いします。\n",
    "'''.format(name, age, age + 1)\n",
    ")"
   ]
  }
 ],
 "metadata": {
  "kernelspec": {
   "display_name": ".venv",
   "language": "python",
   "name": "python3"
  },
  "language_info": {
   "codemirror_mode": {
    "name": "ipython",
    "version": 3
   },
   "file_extension": ".py",
   "mimetype": "text/x-python",
   "name": "python",
   "nbconvert_exporter": "python",
   "pygments_lexer": "ipython3",
   "version": "3.12.10"
  }
 },
 "nbformat": 4,
 "nbformat_minor": 5
}
