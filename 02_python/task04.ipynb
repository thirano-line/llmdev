{
 "cells": [
  {
   "cell_type": "code",
   "execution_count": null,
   "id": "75c4983c",
   "metadata": {},
   "outputs": [],
   "source": [
    "try:\n",
    "    var1 = int(input(\"1つ目の数\"))\n",
    "    var2 = int(input(\"2つ目の数\"))\n",
    "    print(f\"計算結果: {var1 / var2}\")\n",
    "except ZeroDivisionError:\n",
    "    print(\"エラー: 0で割ることはできません\")\n",
    "except ValueError:\n",
    "    print(\"エラー: 数値を入力してください\")"
   ]
  }
 ],
 "metadata": {
  "language_info": {
   "name": "python"
  }
 },
 "nbformat": 4,
 "nbformat_minor": 5
}
