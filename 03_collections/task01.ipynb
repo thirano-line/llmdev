{
 "cells": [
  {
   "cell_type": "code",
   "execution_count": 5,
   "id": "6b9d988c",
   "metadata": {},
   "outputs": [
    {
     "name": "stdout",
     "output_type": "stream",
     "text": [
      "平均点: 86.6\n",
      "最高点: 92\n",
      "最低点: 78\n",
      "平均以上の学生数: 3\n"
     ]
    }
   ],
   "source": [
    "grades = [85, 90, 78, 92, 88]\n",
    "\n",
    "average = sum(grades) / len(grades)\n",
    "\n",
    "print(f\"平均点: {average}\")\n",
    "print(f\"最高点: {max(grades)}\")\n",
    "print(f\"最低点: {min(grades)}\")\n",
    "print(f\"平均以上の学生数: {len(list(filter(lambda x: True if x >= average else False, grades)))}\")"
   ]
  },
  {
   "cell_type": "code",
   "execution_count": null,
   "id": "dd0b7dc6",
   "metadata": {},
   "outputs": [],
   "source": []
  },
  {
   "cell_type": "code",
   "execution_count": null,
   "id": "6b988178",
   "metadata": {},
   "outputs": [],
   "source": []
  },
  {
   "cell_type": "code",
   "execution_count": null,
   "id": "23f3b6e8",
   "metadata": {},
   "outputs": [],
   "source": []
  },
  {
   "cell_type": "code",
   "execution_count": null,
   "id": "b1179029",
   "metadata": {},
   "outputs": [],
   "source": []
  }
 ],
 "metadata": {
  "kernelspec": {
   "display_name": ".venv",
   "language": "python",
   "name": "python3"
  },
  "language_info": {
   "codemirror_mode": {
    "name": "ipython",
    "version": 3
   },
   "file_extension": ".py",
   "mimetype": "text/x-python",
   "name": "python",
   "nbconvert_exporter": "python",
   "pygments_lexer": "ipython3",
   "version": "3.12.10"
  }
 },
 "nbformat": 4,
 "nbformat_minor": 5
}
