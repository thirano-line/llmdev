{
 "cells": [
  {
   "cell_type": "code",
   "execution_count": null,
   "id": "ff173251",
   "metadata": {},
   "outputs": [],
   "source": [
    "class BankAccount:\n",
    "\n",
    "    def __init__(self, balance):\n",
    "        self.__balance = balance\n",
    "\n",
    "    def deposit(self, amount):\n",
    "        if amount < 0:\n",
    "            print(\"エラー: 正しい金額を入力してください\")\n",
    "            return\n",
    "\n",
    "        self.__balance += amount\n",
    "\n",
    "    def withdraw(self, amount):\n",
    "        if amount < 0 or self.__balance - amount < 0:\n",
    "            print(\"エラー: 残高不足または無効な金額です\")\n",
    "            return\n",
    "\n",
    "        self.__balance -= amount\n",
    "\n",
    "    def get_balance(self):\n",
    "        return self.__balance\n",
    "\n",
    "bank_account = BankAccount(1000)\n",
    "bank_account.deposit(500)\n",
    "bank_account.withdraw(200)\n",
    "print(bank_account.get_balance())\n",
    "bank_account.withdraw(1500)"
   ]
  }
 ],
 "metadata": {
  "language_info": {
   "name": "python"
  }
 },
 "nbformat": 4,
 "nbformat_minor": 5
}
