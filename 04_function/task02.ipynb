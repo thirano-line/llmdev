{
 "cells": [
  {
   "cell_type": "code",
   "execution_count": null,
   "id": "d36ead88",
   "metadata": {},
   "outputs": [],
   "source": [
    "import urllib\n",
    "import os\n",
    "import datetime as dt\n",
    "\n",
    "def save_url_content(url: str):\n",
    "    res = urllib.request.urlopen(url)\n",
    "    content = res.read()\n",
    "    content_decoded = content.decode(\"utf-8\")\n",
    "    result = content_decoded[:500]\n",
    "    now = dt.datetime.now()\n",
    "    filename = f\"{now.year}{now.month}{now.day}_{now.hour}{now.minute}{now.second}.txt\"\n",
    "\n",
    "    with open(filename, \"w\", encoding=\"utf-8\") as file:\n",
    "        file.write(result)\n",
    "\n",
    "    return filename\n",
    "\n",
    "\n",
    "url = input(\"URLを入力してください: \")\n",
    "file_name = save_url_content(url)\n",
    "print(f\"Content saved in: {file_name}\")"
   ]
  }
 ],
 "metadata": {
  "language_info": {
   "name": "python"
  }
 },
 "nbformat": 4,
 "nbformat_minor": 5
}
