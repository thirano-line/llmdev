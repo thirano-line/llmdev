{
 "cells": [
  {
   "cell_type": "code",
   "execution_count": null,
   "id": "49d9fad4",
   "metadata": {},
   "outputs": [],
   "source": [
    "def valid(text: str):\n",
    "    if len(text) < 5 or len(text) > 15:\n",
    "        print(\"エラー: ユーザー名は5文字以上15文字以内で入力してください\")\n",
    "        return False\n",
    "\n",
    "    if text in \" \":\n",
    "        print(\"エラー: ユーザー名に空白を含めることはできません\")\n",
    "        return False\n",
    "\n",
    "    if not text.isalnum():\n",
    "        print(\"エラー: ユーザー名は英数字のみ使用できます\")\n",
    "        return False\n",
    "\n",
    "    print(\"ユーザー名は有効です\")\n",
    "    return True\n",
    "\n",
    "name = input(\"input name: \")\n",
    "\n",
    "if not valid(name):\n",
    "    print(\"不正なユーザー名です\")"
   ]
  }
 ],
 "metadata": {
  "language_info": {
   "name": "python"
  }
 },
 "nbformat": 4,
 "nbformat_minor": 5
}
